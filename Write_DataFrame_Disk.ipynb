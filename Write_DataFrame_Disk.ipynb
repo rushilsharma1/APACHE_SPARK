{
 "cells": [
  {
   "cell_type": "code",
   "execution_count": 0,
   "metadata": {
    "application/vnd.databricks.v1+cell": {
     "cellMetadata": {
      "byteLimit": 2048000,
      "rowLimit": 10000
     },
     "inputWidgets": {},
     "nuid": "422bf361-7fa6-4e51-9adc-e913ced92978",
     "showTitle": false,
     "tableResultSettingsMap": {},
     "title": ""
    }
   },
   "outputs": [
    {
     "output_type": "stream",
     "name": "stdout",
     "output_type": "stream",
     "text": [
      "+---+----------+--------+---------+----------+-----------+\n| id|      name|     age|   salary|   address|     gender|\n+---+----------+--------+---------+----------+-----------+\n|  1|    Manish|      26|    75000|     INDIA|          m|\n|  2|    Nikita|      23|   100000|       USA|          f|\n|  3|    Pritam|      22|   150000|     INDIA|          m|\n|  4|  Prantosh|      17|   200000|     JAPAN|          m|\n|  5|    Vikash|      31|   300000|       USA|          m|\n|  6|     Rahul|      55|   300000|     INDIA|          m|\n|  7|      Raju|      67|   540000|       USA|          m|\n|  8|   Praveen|      28|    70000|     JAPAN|          m|\n|  9|       Dev|      32|   150000|     JAPAN|          m|\n| 10|    Sherin|      16|    25000|    RUSSIA|          f|\n| 11|      Ragu|      12|    35000|     INDIA|          f|\n| 12|     Sweta|      43|   200000|     INDIA|          f|\n| 13|   Raushan|      48|   650000|       USA|          m|\n| 14|    Mukesh|      36|    95000|    RUSSIA|          m|\n| 15|   Prakash|      52|   750000|     INDIA|          m|\n+---+----------+--------+---------+----------+-----------+\n\n"
     ]
    }
   ],
   "source": [
    "df=spark.read.format(\"csv\")\\\n",
    "    .option(\"header\",\"True\")\\\n",
    "        .option(\"mode\",\"FAILFAST\")\\\n",
    "        .load(\"/FileStore/tables/DataFrame_to_Disk.txt\")\n",
    "df.show()"
   ]
  },
  {
   "cell_type": "markdown",
   "metadata": {
    "application/vnd.databricks.v1+cell": {
     "cellMetadata": {},
     "inputWidgets": {},
     "nuid": "dcb4ea46-3e46-4e1e-84bc-0227b4c748bc",
     "showTitle": false,
     "tableResultSettingsMap": {},
     "title": ""
    }
   },
   "source": [
    "AGAR KOI BHI FORMAT NHI DEGE TAB VO PARQUET FORMAT LELEGA KHUD SE DEFAULT"
   ]
  },
  {
   "cell_type": "code",
   "execution_count": 0,
   "metadata": {
    "application/vnd.databricks.v1+cell": {
     "cellMetadata": {
      "byteLimit": 2048000,
      "rowLimit": 10000
     },
     "inputWidgets": {},
     "nuid": "5d9f2bae-8932-4eff-b697-5b8df46e91df",
     "showTitle": false,
     "tableResultSettingsMap": {},
     "title": ""
    }
   },
   "outputs": [],
   "source": [
    "df.write.format(\"csv\")\\\n",
    "  .option(\"header\",\"True\")\\\n",
    "    .option(\"mode\",\"overerite\")\\\n",
    "      .option(\"path\", \"/FileStore/tables/csv_DiscWrite\")\\\n",
    "        .save()"
   ]
  },
  {
   "cell_type": "markdown",
   "metadata": {
    "application/vnd.databricks.v1+cell": {
     "cellMetadata": {},
     "inputWidgets": {},
     "nuid": "9700aef4-4809-406c-aea8-37baba3a1665",
     "showTitle": false,
     "tableResultSettingsMap": {},
     "title": ""
    }
   },
   "source": [
    "AB AGAR YE CHECK KRNA H TAB HAM YE COMMAND RUN KREGE...."
   ]
  },
  {
   "cell_type": "code",
   "execution_count": 0,
   "metadata": {
    "application/vnd.databricks.v1+cell": {
     "cellMetadata": {
      "byteLimit": 2048000,
      "rowLimit": 10000
     },
     "inputWidgets": {},
     "nuid": "b2cfaafc-8a6a-4076-a8f8-fb158f540a50",
     "showTitle": false,
     "tableResultSettingsMap": {},
     "title": ""
    }
   },
   "outputs": [
    {
     "output_type": "stream",
     "name": "stdout",
     "output_type": "stream",
     "text": [
      "Out[7]: [FileInfo(path='dbfs:/FileStore/tables/csv_DiscWrite/_SUCCESS', name='_SUCCESS', size=0, modificationTime=1742924654000),\n FileInfo(path='dbfs:/FileStore/tables/csv_DiscWrite/_committed_6992768171389925250', name='_committed_6992768171389925250', size=111, modificationTime=1742924654000),\n FileInfo(path='dbfs:/FileStore/tables/csv_DiscWrite/_started_6992768171389925250', name='_started_6992768171389925250', size=0, modificationTime=1742924653000),\n FileInfo(path='dbfs:/FileStore/tables/csv_DiscWrite/part-00000-tid-6992768171389925250-e44fc901-80a7-4e7e-b77d-a32c4198f2c2-3-1-c000.csv', name='part-00000-tid-6992768171389925250-e44fc901-80a7-4e7e-b77d-a32c4198f2c2-3-1-c000.csv', size=430, modificationTime=1742924653000)]"
     ]
    }
   ],
   "source": [
    "dbutils.fs.ls(\"/FileStore/tables/csv_DiscWrite\")"
   ]
  },
  {
   "cell_type": "markdown",
   "metadata": {
    "application/vnd.databricks.v1+cell": {
     "cellMetadata": {},
     "inputWidgets": {},
     "nuid": "72dacaf0-6393-416d-945d-12d425d4a533",
     "showTitle": false,
     "tableResultSettingsMap": {},
     "title": ""
    }
   },
   "source": [
    "YE JO FILE SAVE KIYA H YE 1 FILE SAVE KIYA HAI AISE HI 3 FILE SAVE KRVANA H AGAR TAB YE USE KRO .............\n",
    "df.repartition(3).write.format(\"csv\")\\"
   ]
  },
  {
   "cell_type": "code",
   "execution_count": 0,
   "metadata": {
    "application/vnd.databricks.v1+cell": {
     "cellMetadata": {
      "byteLimit": 2048000,
      "rowLimit": 10000
     },
     "inputWidgets": {},
     "nuid": "7141824d-db12-4ebd-9e63-4f8ea594355d",
     "showTitle": false,
     "tableResultSettingsMap": {},
     "title": ""
    }
   },
   "outputs": [],
   "source": [
    "df.repartition(3).write.format(\"csv\")\\\n",
    "  .option(\"header\",\"True\")\\\n",
    "    .option(\"mode\",\"overerite\")\\\n",
    "      .option(\"path\", \"/FileStore/tables/csv_DiscWrite_repartition\")\\\n",
    "        .save()"
   ]
  },
  {
   "cell_type": "code",
   "execution_count": 0,
   "metadata": {
    "application/vnd.databricks.v1+cell": {
     "cellMetadata": {
      "byteLimit": 2048000,
      "rowLimit": 10000
     },
     "inputWidgets": {},
     "nuid": "f14927ab-08e0-4a90-b96c-e95042ea10ee",
     "showTitle": false,
     "tableResultSettingsMap": {},
     "title": ""
    }
   },
   "outputs": [
    {
     "output_type": "stream",
     "name": "stdout",
     "output_type": "stream",
     "text": [
      "Out[12]: [FileInfo(path='dbfs:/FileStore/tables/csv_DiscWrite_repartition/_SUCCESS', name='_SUCCESS', size=0, modificationTime=1742925072000),\n FileInfo(path='dbfs:/FileStore/tables/csv_DiscWrite_repartition/_committed_680169317641307417', name='_committed_680169317641307417', size=282, modificationTime=1742925072000),\n FileInfo(path='dbfs:/FileStore/tables/csv_DiscWrite_repartition/_started_680169317641307417', name='_started_680169317641307417', size=0, modificationTime=1742925072000),\n FileInfo(path='dbfs:/FileStore/tables/csv_DiscWrite_repartition/part-00000-tid-680169317641307417-b2ef5031-6c40-406c-b6e6-76fc6225f3ac-6-1-c000.csv', name='part-00000-tid-680169317641307417-b2ef5031-6c40-406c-b6e6-76fc6225f3ac-6-1-c000.csv', size=165, modificationTime=1742925072000),\n FileInfo(path='dbfs:/FileStore/tables/csv_DiscWrite_repartition/part-00001-tid-680169317641307417-b2ef5031-6c40-406c-b6e6-76fc6225f3ac-7-1-c000.csv', name='part-00001-tid-680169317641307417-b2ef5031-6c40-406c-b6e6-76fc6225f3ac-7-1-c000.csv', size=164, modificationTime=1742925072000),\n FileInfo(path='dbfs:/FileStore/tables/csv_DiscWrite_repartition/part-00002-tid-680169317641307417-b2ef5031-6c40-406c-b6e6-76fc6225f3ac-8-1-c000.csv', name='part-00002-tid-680169317641307417-b2ef5031-6c40-406c-b6e6-76fc6225f3ac-8-1-c000.csv', size=169, modificationTime=1742925072000)]"
     ]
    }
   ],
   "source": [
    "dbutils.fs.ls(\"/FileStore/tables/csv_DiscWrite_repartition\")"
   ]
  },
  {
   "cell_type": "markdown",
   "metadata": {
    "application/vnd.databricks.v1+cell": {
     "cellMetadata": {},
     "inputWidgets": {},
     "nuid": "17f1e8f8-4618-41b7-9a3c-3bb1a49a064c",
     "showTitle": false,
     "tableResultSettingsMap": {},
     "title": ""
    }
   },
   "source": [
    "3 csv file hame bana ke dediya"
   ]
  },
  {
   "cell_type": "code",
   "execution_count": 0,
   "metadata": {
    "application/vnd.databricks.v1+cell": {
     "cellMetadata": {},
     "inputWidgets": {},
     "nuid": "968b4c75-6aad-478f-adb8-bc941403ab43",
     "showTitle": false,
     "tableResultSettingsMap": {},
     "title": ""
    }
   },
   "outputs": [],
   "source": []
  }
 ],
 "metadata": {
  "application/vnd.databricks.v1+notebook": {
   "computePreferences": null,
   "dashboards": [],
   "environmentMetadata": {
    "base_environment": "",
    "client": "1"
   },
   "language": "python",
   "notebookMetadata": {
    "pythonIndentUnit": 4
   },
   "notebookName": "Write_DataFrame_Disk",
   "widgets": {}
  }
 },
 "nbformat": 4,
 "nbformat_minor": 0
}
